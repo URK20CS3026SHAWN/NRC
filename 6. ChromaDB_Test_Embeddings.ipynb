{
 "cells": [
  {
   "cell_type": "code",
   "execution_count": 1,
   "metadata": {},
   "outputs": [],
   "source": [
    "# !pip install chromadb"
   ]
  },
  {
   "cell_type": "code",
   "execution_count": 1,
   "metadata": {},
   "outputs": [],
   "source": [
    "import chromadb\n",
    "chroma_client = chromadb.Client()"
   ]
  },
  {
   "cell_type": "code",
   "execution_count": 2,
   "metadata": {},
   "outputs": [
    {
     "name": "stderr",
     "output_type": "stream",
     "text": [
      "/Users/shawn/anaconda3/envs/llamalocal/lib/python3.11/site-packages/tqdm/auto.py:21: TqdmWarning: IProgress not found. Please update jupyter and ipywidgets. See https://ipywidgets.readthedocs.io/en/stable/user_install.html\n",
      "  from .autonotebook import tqdm as notebook_tqdm\n",
      "\u001b[32m2023-12-08 11:04:58.409\u001b[0m | \u001b[34m\u001b[1mDEBUG   \u001b[0m | \u001b[36mtext2vec.sentence_model\u001b[0m:\u001b[36m__init__\u001b[0m:\u001b[36m80\u001b[0m - \u001b[34m\u001b[1mUse device: cpu\u001b[0m\n"
     ]
    }
   ],
   "source": [
    "# Testing Embedding Functions available in ChromaDB\n",
    "\n",
    "from chromadb.utils import embedding_functions\n",
    "Sent_Trans_ef = embedding_functions.SentenceTransformerEmbeddingFunction()\n",
    "\n",
    "T2V_ef = embedding_functions.Text2VecEmbeddingFunction()\n",
    "\n",
    "Instructor_ef = embedding_functions.InstructorEmbeddingFunction() \n",
    "# If you have a GPU with at least 6GB try model_name = \"hkunlp/instructor-xl\" and device = \"cuda\"\n",
    "# for a full list of options: https://github.com/HKUNLP/instructor-embedding#model-list\n",
    "\n",
    "MiniLM_L6V2_ef = embedding_functions.ONNXMiniLM_L6_V2()\n",
    "\n",
    "\n",
    "\n",
    "#Propietary Embedding Functions\n",
    "#OpenAI_ef = embedding_functions.OpenAIEmbeddingFunction(api_key='YOUR_API_KEY')\n",
    "#Cohere_ef = embedding_functions.CohereEmbeddingFunction(api_key='YOUR_API_KEY')\n",
    "#HuggingFace_ef = embedding_functions.HuggingFaceEmbeddingFunction(api_key='YOUR_API_KEY',model_name='HuggingFace_model_name')\n",
    "#GooglePalm_ef = embedding_functions.GooglePalmEmbeddingFunction(api_key='YOUR_API_KEY',model_name='YOUR_MODEL_NAME')\n",
    "#GoogleVertexef = embedding_functions.GoogleVertexEmbeddingFunction(api_key='YOUR_API_KEY',model_name='YOUR_MODEL_NAME',region='YOUR_REGION')\n",
    "\n",
    "\n",
    "embedding_function = \"Enter Embedding Function Here\"\n"
   ]
  },
  {
   "cell_type": "code",
   "execution_count": null,
   "metadata": {},
   "outputs": [],
   "source": []
  },
  {
   "cell_type": "code",
   "execution_count": 3,
   "metadata": {},
   "outputs": [],
   "source": [
    "collection = chroma_client.create_collection(name=\"my_collection\", embedding_function=embedding_function)"
   ]
  },
  {
   "cell_type": "code",
   "execution_count": 4,
   "metadata": {},
   "outputs": [],
   "source": [
    "collection.add(\n",
    "    documents=[\"This is a document\", \"This is another document\"],\n",
    "    metadatas=[{\"source\": \"my_source\"}, {\"source\": \"my_source\"}],\n",
    "    ids=[\"id4\", \"id5\"]\n",
    ")"
   ]
  },
  {
   "cell_type": "code",
   "execution_count": null,
   "metadata": {},
   "outputs": [],
   "source": [
    "collection.add(\n",
    "    embeddings=[[1.2, 2.3, 4.5], [6.7, 8.2, 9.2]],\n",
    "    documents=[\"This is a document\", \"This is another document\"],\n",
    "    metadatas=[{\"source\": \"my_source\"}, {\"source\": \"my_source\"}],\n",
    "    ids=[\"id1\", \"id2\"]\n",
    ")"
   ]
  },
  {
   "cell_type": "code",
   "execution_count": 5,
   "metadata": {},
   "outputs": [],
   "source": [
    "results = collection.query(\n",
    "    #query_embeddings=[[1.2, 2.3, 4.5]],\n",
    "    query_texts=[\"This is a query document\"],\n",
    "    n_results=2\n",
    ")"
   ]
  },
  {
   "cell_type": "code",
   "execution_count": 6,
   "metadata": {},
   "outputs": [
    {
     "data": {
      "text/plain": [
       "{'ids': [['id4', 'id5']],\n",
       " 'embeddings': None,\n",
       " 'documents': [['This is a document', 'This is another document']],\n",
       " 'metadatas': [[{'source': 'my_source'}, {'source': 'my_source'}]],\n",
       " 'distances': [[93.80814361572266, 126.65563201904297]]}"
      ]
     },
     "execution_count": 6,
     "metadata": {},
     "output_type": "execute_result"
    }
   ],
   "source": [
    "results"
   ]
  }
 ],
 "metadata": {
  "kernelspec": {
   "display_name": "Python 3",
   "language": "python",
   "name": "python3"
  },
  "language_info": {
   "codemirror_mode": {
    "name": "ipython",
    "version": 3
   },
   "file_extension": ".py",
   "mimetype": "text/x-python",
   "name": "python",
   "nbconvert_exporter": "python",
   "pygments_lexer": "ipython3",
   "version": "3.11.5"
  }
 },
 "nbformat": 4,
 "nbformat_minor": 2
}
